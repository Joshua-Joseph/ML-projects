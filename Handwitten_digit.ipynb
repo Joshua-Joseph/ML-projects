{
  "nbformat": 4,
  "nbformat_minor": 0,
  "metadata": {
    "colab": {
      "name": "Handwitten_digit.ipynb",
      "provenance": []
    },
    "kernelspec": {
      "name": "python3",
      "display_name": "Python 3"
    },
    "language_info": {
      "name": "python"
    }
  },
  "cells": [
    {
      "cell_type": "code",
      "metadata": {
        "id": "pEC-0r2LXbaF"
      },
      "source": [
        "#importing the required modules\n",
        "from keras.datasets import mnist\n",
        "from keras.models import Sequential\n",
        "from keras.layers import Dense\n",
        "from keras.layers import Dropout\n",
        "from keras.layers import Flatten\n",
        "from keras.layers.convolutional import Conv2D\n",
        "from keras.layers.convolutional import MaxPooling2D\n",
        "from tensorflow.keras.utils import to_categorical\n",
        "import matplotlib.pyplot as plt\n"
      ],
      "execution_count": 21,
      "outputs": []
    },
    {
      "cell_type": "code",
      "metadata": {
        "colab": {
          "base_uri": "https://localhost:8080/"
        },
        "id": "_aL2A2N5ZLyg",
        "outputId": "79f3dfa3-4307-4ebd-a92e-fe7199b77e06"
      },
      "source": [
        "# loading data from the MNIST dataset\n",
        "(x_train, y_train), (x_test, y_test) = mnist.load_data()"
      ],
      "execution_count": 2,
      "outputs": [
        {
          "output_type": "stream",
          "text": [
            "Downloading data from https://storage.googleapis.com/tensorflow/tf-keras-datasets/mnist.npz\n",
            "11493376/11490434 [==============================] - 0s 0us/step\n",
            "11501568/11490434 [==============================] - 0s 0us/step\n"
          ],
          "name": "stdout"
        }
      ]
    },
    {
      "cell_type": "code",
      "metadata": {
        "id": "tb73aejFZYhw"
      },
      "source": [
        "# reshape format : [samples][width][height][channels]\n",
        "x_train = x_train.reshape(60000, 28, 28,1)\n",
        "x_test = x_test.reshape(10000, 28, 28,1)"
      ],
      "execution_count": 3,
      "outputs": []
    },
    {
      "cell_type": "code",
      "metadata": {
        "id": "yBwO5CYLaLFw"
      },
      "source": [
        "# one hot encode\n",
        "y_train_one_hot = to_categorical(y_train)\n",
        "y_test_one_hot = to_categorical(y_test)"
      ],
      "execution_count": 11,
      "outputs": []
    },
    {
      "cell_type": "code",
      "metadata": {
        "id": "CI57xKQPaamP"
      },
      "source": [
        "# define a simple CNN model\n",
        "def baseline_model():\n",
        "\t# create model\n",
        "\tmodel = Sequential()\n",
        "\tmodel.add(Conv2D(32, (5, 5), input_shape=(28, 28, 1), activation='relu'))\n",
        "\tmodel.add(MaxPooling2D())\n",
        "\tmodel.add(Dropout(0.2))\n",
        "\tmodel.add(Flatten())\n",
        "\tmodel.add(Dense(128, activation='relu'))\n",
        "\tmodel.add(Dense(10, activation='softmax')) #10 chosen because we have 10 different digits to be classified\n",
        "\t# Compile model\n",
        "\tmodel.compile(loss='categorical_crossentropy', optimizer='adam', metrics=['accuracy'])\n",
        "\treturn model"
      ],
      "execution_count": 16,
      "outputs": []
    },
    {
      "cell_type": "code",
      "metadata": {
        "colab": {
          "base_uri": "https://localhost:8080/"
        },
        "id": "q9uUIchRcinC",
        "outputId": "4b7fed0f-2915-496f-d9f4-ed993a06c684"
      },
      "source": [
        "# build the model\n",
        "model = baseline_model()\n",
        "# Fit the model\n",
        "hist = model.fit(x_train, y_train, validation_data=(x_test, y_test), epochs=10, batch_size=200)"
      ],
      "execution_count": 18,
      "outputs": [
        {
          "output_type": "stream",
          "text": [
            "Epoch 1/10\n",
            "300/300 [==============================] - 38s 109ms/step - loss: 7.1919 - accuracy: 0.7782 - val_loss: 0.1186 - val_accuracy: 0.9649\n",
            "Epoch 2/10\n",
            "300/300 [==============================] - 33s 111ms/step - loss: 0.1237 - accuracy: 0.9651 - val_loss: 0.0841 - val_accuracy: 0.9760\n",
            "Epoch 3/10\n",
            "300/300 [==============================] - 33s 109ms/step - loss: 0.0753 - accuracy: 0.9773 - val_loss: 0.0742 - val_accuracy: 0.9795\n",
            "Epoch 4/10\n",
            "300/300 [==============================] - 33s 109ms/step - loss: 0.0507 - accuracy: 0.9841 - val_loss: 0.0619 - val_accuracy: 0.9824\n",
            "Epoch 5/10\n",
            "300/300 [==============================] - 33s 109ms/step - loss: 0.0391 - accuracy: 0.9866 - val_loss: 0.0547 - val_accuracy: 0.9833\n",
            "Epoch 6/10\n",
            "300/300 [==============================] - 33s 109ms/step - loss: 0.0314 - accuracy: 0.9895 - val_loss: 0.0600 - val_accuracy: 0.9833\n",
            "Epoch 7/10\n",
            "300/300 [==============================] - 33s 110ms/step - loss: 0.0277 - accuracy: 0.9909 - val_loss: 0.0641 - val_accuracy: 0.9827\n",
            "Epoch 8/10\n",
            "300/300 [==============================] - 33s 110ms/step - loss: 0.0245 - accuracy: 0.9917 - val_loss: 0.0671 - val_accuracy: 0.9830\n",
            "Epoch 9/10\n",
            "300/300 [==============================] - 32s 108ms/step - loss: 0.0205 - accuracy: 0.9931 - val_loss: 0.0671 - val_accuracy: 0.9849\n",
            "Epoch 10/10\n",
            "300/300 [==============================] - 31s 104ms/step - loss: 0.0193 - accuracy: 0.9935 - val_loss: 0.0616 - val_accuracy: 0.9842\n"
          ],
          "name": "stdout"
        }
      ]
    },
    {
      "cell_type": "code",
      "metadata": {
        "colab": {
          "base_uri": "https://localhost:8080/"
        },
        "id": "WJgpFKOTdXaN",
        "outputId": "2b165112-b335-4942-d246-af291ce025b2"
      },
      "source": [
        "# Final evaluation of the model\n",
        "scores = model.evaluate(x_test, y_test, verbose=0)\n",
        "print(scores[1]*100)\n"
      ],
      "execution_count": 20,
      "outputs": [
        {
          "output_type": "stream",
          "text": [
            "98.42000007629395\n"
          ],
          "name": "stdout"
        }
      ]
    },
    {
      "cell_type": "code",
      "metadata": {
        "colab": {
          "base_uri": "https://localhost:8080/",
          "height": 312
        },
        "id": "hHhfeHPofK8_",
        "outputId": "b2816c5b-7516-444e-b803-c7d65fff6cf5"
      },
      "source": [
        "# plotting \n",
        "plt.plot(hist.history['accuracy'])\n",
        "plt.plot(hist.history['val_accuracy'])\n",
        "plt.title('Model Accuracy')\n",
        "plt.ylabel('Accuracy')\n",
        "plt.xlabel('Epochs')\n",
        "plt.legend(['Training', 'Evaluating'])"
      ],
      "execution_count": 23,
      "outputs": [
        {
          "output_type": "execute_result",
          "data": {
            "text/plain": [
              "<matplotlib.legend.Legend at 0x7fc8c5765390>"
            ]
          },
          "metadata": {
            "tags": []
          },
          "execution_count": 23
        },
        {
          "output_type": "display_data",
          "data": {
            "image/png": "[encoded data removed]",
            "text/plain": [
              "<Figure size 432x288 with 1 Axes>"
            ]
          },
          "metadata": {
            "tags": [],
            "needs_background": "light"
          }
        }
      ]
    }
  ]
}