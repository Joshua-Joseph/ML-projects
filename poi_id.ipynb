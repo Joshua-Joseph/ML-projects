{
 "cells": [
  {
   "cell_type": "code",
   "execution_count": 1,
   "id": "be96a4bd",
   "metadata": {},
   "outputs": [],
   "source": [
    "import sys\n",
    "import pickle\n",
    "import matplotlib.pyplot as plt\n",
    "sys.path.append(\"../tools/\")\n",
    "\n",
    "from feature_format import featureFormat, targetFeatureSplit\n",
    "from tester import dump_classifier_and_data\n",
    "from tester import test_classifier"
   ]
  },
  {
   "cell_type": "code",
   "execution_count": 2,
   "id": "c5821f2d",
   "metadata": {},
   "outputs": [],
   "source": [
    "with open(\"final_project_dataset.pkl\", \"rb\") as data_file:\n",
    "    data_dict = pickle.load(data_file)"
   ]
  },
  {
   "cell_type": "code",
   "execution_count": 3,
   "id": "152f1b9f",
   "metadata": {},
   "outputs": [
    {
     "data": {
      "text/plain": [
       "{'salary': 26704229,\n",
       " 'to_messages': 'NaN',\n",
       " 'deferral_payments': 32083396,\n",
       " 'total_payments': 309886585,\n",
       " 'loan_advances': 83925000,\n",
       " 'bonus': 97343619,\n",
       " 'email_address': 'NaN',\n",
       " 'restricted_stock_deferred': -7576788,\n",
       " 'deferred_income': -27992891,\n",
       " 'total_stock_value': 434509511,\n",
       " 'expenses': 5235198,\n",
       " 'from_poi_to_this_person': 'NaN',\n",
       " 'exercised_stock_options': 311764000,\n",
       " 'from_messages': 'NaN',\n",
       " 'other': 42667589,\n",
       " 'from_this_person_to_poi': 'NaN',\n",
       " 'poi': False,\n",
       " 'long_term_incentive': 48521928,\n",
       " 'shared_receipt_with_poi': 'NaN',\n",
       " 'restricted_stock': 130322299,\n",
       " 'director_fees': 1398517}"
      ]
     },
     "execution_count": 3,
     "metadata": {},
     "output_type": "execute_result"
    }
   ],
   "source": [
    "(data_dict.pop('TOTAL'))"
   ]
  },
  {
   "cell_type": "code",
   "execution_count": 4,
   "id": "434b3ce2",
   "metadata": {},
   "outputs": [],
   "source": [
    "my_dataset = data_dict"
   ]
  },
  {
   "cell_type": "code",
   "execution_count": 5,
   "id": "5fb02274",
   "metadata": {},
   "outputs": [],
   "source": [
    "def computeFraction( poi_messages, all_messages ):\n",
    "    if(poi_messages=='NaN' or all_messages=='NaN'):\n",
    "        fraction = 0\n",
    "    else:\n",
    "        fraction = (float(poi_messages)/all_messages)\n",
    "    return fraction\n",
    "\n",
    "for name in data_dict:\n",
    "    from_poi_to_this_person = data_dict[name][\"from_poi_to_this_person\"]\n",
    "    to_messages = data_dict[name][\"to_messages\"]\n",
    "    my_dataset[name][\"fraction_from_poi\"] = computeFraction( from_poi_to_this_person, to_messages )\n",
    "    \n",
    "    from_this_person_to_poi = data_dict[name][\"from_this_person_to_poi\"]\n",
    "    from_messages = data_dict[name][\"from_messages\"]\n",
    "    my_dataset[name][\"fraction_to_poi\"] = computeFraction( from_this_person_to_poi, from_messages )"
   ]
  },
  {
   "cell_type": "code",
   "execution_count": 6,
   "id": "f97118ac",
   "metadata": {},
   "outputs": [],
   "source": [
    "features_list = ['poi','salary', 'deferral_payments', 'total_payments', 'loan_advances', 'bonus', 'restricted_stock_deferred', 'deferred_income', 'total_stock_value', 'expenses', 'exercised_stock_options', 'other', 'long_term_incentive', 'restricted_stock', 'director_fees', 'shared_receipt_with_poi', 'fraction_from_poi','fraction_to_poi']\n"
   ]
  },
  {
   "cell_type": "code",
   "execution_count": 7,
   "id": "399c5bc5",
   "metadata": {},
   "outputs": [
    {
     "data": {
      "text/plain": [
       "18"
      ]
     },
     "execution_count": 7,
     "metadata": {},
     "output_type": "execute_result"
    }
   ],
   "source": [
    "len(features_list)"
   ]
  },
  {
   "cell_type": "code",
   "execution_count": 8,
   "id": "21eb7063",
   "metadata": {},
   "outputs": [],
   "source": [
    "data = featureFormat(my_dataset, features_list, sort_keys = True)"
   ]
  },
  {
   "cell_type": "code",
   "execution_count": 9,
   "id": "894d6186",
   "metadata": {},
   "outputs": [],
   "source": [
    "\n",
    "labels, features = targetFeatureSplit(data)\n"
   ]
  },
  {
   "cell_type": "code",
   "execution_count": 10,
   "id": "6abb9d1f",
   "metadata": {},
   "outputs": [],
   "source": [
    "from sklearn.model_selection import train_test_split\n",
    "X_train, X_test, y_train, y_test = train_test_split(features, labels, test_size=0.3, random_state=42)"
   ]
  },
  {
   "cell_type": "code",
   "execution_count": 11,
   "id": "a541d96e",
   "metadata": {},
   "outputs": [
    {
     "data": {
      "text/plain": [
       "DecisionTreeClassifier(random_state=0)"
      ]
     },
     "execution_count": 11,
     "metadata": {},
     "output_type": "execute_result"
    }
   ],
   "source": [
    "from sklearn.tree import DecisionTreeClassifier\n",
    "clf4 = DecisionTreeClassifier(random_state=0)\n",
    "clf4.fit(X_train, y_train)"
   ]
  },
  {
   "cell_type": "code",
   "execution_count": 12,
   "id": "7e394ddd",
   "metadata": {},
   "outputs": [
    {
     "name": "stdout",
     "output_type": "stream",
     "text": [
      "DecisionTreeClassifier(random_state=0)\n",
      "\tAccuracy: 0.81847\tPrecision: 0.32130\tRecall: 0.32500\tF1: 0.32314\tF2: 0.32425\n",
      "\tTotal predictions: 15000\tTrue positives:  650\tFalse positives: 1373\tFalse negatives: 1350\tTrue negatives: 11627\n",
      "\n"
     ]
    }
   ],
   "source": [
    "test_classifier(clf4, my_dataset, features_list)"
   ]
  },
  {
   "cell_type": "code",
   "execution_count": 13,
   "id": "54059d3c",
   "metadata": {},
   "outputs": [
    {
     "data": {
      "text/plain": [
       "AdaBoostClassifier(learning_rate=0.35, n_estimators=325, random_state=0)"
      ]
     },
     "execution_count": 13,
     "metadata": {},
     "output_type": "execute_result"
    }
   ],
   "source": [
    "from sklearn.ensemble import AdaBoostClassifier\n",
    "clf5 = AdaBoostClassifier(n_estimators=325, random_state=0, learning_rate=0.35)\n",
    "clf5.fit(X_train, y_train)"
   ]
  },
  {
   "cell_type": "code",
   "execution_count": 14,
   "id": "f2812e27",
   "metadata": {},
   "outputs": [
    {
     "name": "stdout",
     "output_type": "stream",
     "text": [
      "AdaBoostClassifier(learning_rate=0.35, n_estimators=325, random_state=0)\n",
      "\tAccuracy: 0.83780\tPrecision: 0.36460\tRecall: 0.29150\tF1: 0.32398\tF2: 0.30368\n",
      "\tTotal predictions: 15000\tTrue positives:  583\tFalse positives: 1016\tFalse negatives: 1417\tTrue negatives: 11984\n",
      "\n"
     ]
    }
   ],
   "source": [
    "test_classifier(clf5, my_dataset, features_list)"
   ]
  },
  {
   "cell_type": "code",
   "execution_count": null,
   "id": "7c1f3e47",
   "metadata": {},
   "outputs": [],
   "source": []
  }
 ],
 "metadata": {
  "kernelspec": {
   "display_name": "Python 3",
   "language": "python",
   "name": "python3"
  },
  "language_info": {
   "codemirror_mode": {
    "name": "ipython",
    "version": 3
   },
   "file_extension": ".py",
   "mimetype": "text/x-python",
   "name": "python",
   "nbconvert_exporter": "python",
   "pygments_lexer": "ipython3",
   "version": "3.8.8"
  }
 },
 "nbformat": 4,
 "nbformat_minor": 5
}
